{
 "cells": [
  {
   "cell_type": "code",
   "execution_count": 13,
   "metadata": {
    "ExecuteTime": {
     "end_time": "2018-12-15T16:43:26.328732Z",
     "start_time": "2018-12-15T16:43:26.324646Z"
    }
   },
   "outputs": [],
   "source": [
    "import pandas as pd\n",
    "from selenium import webdriver\n",
    "from selenium.webdriver.common.keys import Keys\n",
    "from time import sleep, strftime\n",
    "from random import randint\n",
    "import pandas as pd\n",
    "import json"
   ]
  },
  {
   "cell_type": "code",
   "execution_count": 14,
   "metadata": {
    "ExecuteTime": {
     "end_time": "2018-12-15T16:43:46.103267Z",
     "start_time": "2018-12-15T16:43:27.060116Z"
    }
   },
   "outputs": [
    {
     "name": "stdout",
     "output_type": "stream",
     "text": [
      "Enter a user: Martin\n"
     ]
    }
   ],
   "source": [
    "# Load hashtag list\n",
    "try:\n",
    "    f = open(\"/Users/martin/Documents/Instagram Bot/hashtag_list.txt\", \"r\")\n",
    "    contents = f.read().split(',')\n",
    "    hashtag_list = [i.strip() for i in contents]\n",
    "except:\n",
    "    print('Please, create a txt file called hashtag_list in your directory with the hashtag to navigate on')\n",
    "\n",
    "# Load the username and password from a JSON file. Otherwise, ask for it\n",
    "try:\n",
    "    json_data = open('/Users/martin/Documents/Instagram Bot/user.json').read()\n",
    "    data = json.loads(json_data)\n",
    "    user = input('Enter a user: ')\n",
    "except:\n",
    "    print('Please, create a txt file called hashtag_list in your directory with the hashtag to navigate on')\n",
    "\n",
    "# Start navigation\n",
    "chromedriver_path = '/anaconda3/bin/chromedriver' # Change this to your own chromedriver path!\n",
    "webdriver = webdriver.Chrome(executable_path = chromedriver_path)\n",
    "sleep(2)\n",
    "\n",
    "# Get in the webpage\n",
    "webdriver.get('https://www.instagram.com/accounts/login/?source=auth_switcher')\n",
    "sleep(3)\n",
    "\n",
    "# Login\n",
    "username = webdriver.find_element_by_name('username')\n",
    "username.send_keys(data[user]['username'])\n",
    "password = webdriver.find_element_by_name('password')\n",
    "password.send_keys(data[user]['password'])\n",
    "\n",
    "button_login = webdriver.find_element_by_css_selector('#react-root > section > main > div > article > div > div:nth-child(1) > div > form > div:nth-child(3) > button')\n",
    "button_login.click()\n",
    "sleep(3)\n",
    "\n",
    "notnow = webdriver.find_element_by_css_selector('body > div:nth-child(13) > div > div > div > div.mt3GC > button.aOOlW.HoLwm')\n",
    "notnow.click() #comment these last 2 lines out if you don't get a pop up asking about notifications\n",
    "\n",
    "\n",
    "prev_user_list = [] # if it's the first time you run it, use this line and comment the two below\n",
    "#rev_user_list = pd.read_csv('20181203-224633_users_followed_list.csv', delimiter=',').iloc[:,1:2] # useful to build a user log\n",
    "#prev_user_list = list(prev_user_list['0'])"
   ]
  }
 ],
 "metadata": {
  "hide_input": false,
  "kernelspec": {
   "display_name": "Python 3",
   "language": "python",
   "name": "python3"
  },
  "language_info": {
   "codemirror_mode": {
    "name": "ipython",
    "version": 3
   },
   "file_extension": ".py",
   "mimetype": "text/x-python",
   "name": "python",
   "nbconvert_exporter": "python",
   "pygments_lexer": "ipython3",
   "version": "3.6.6"
  },
  "toc": {
   "base_numbering": 1,
   "nav_menu": {},
   "number_sections": true,
   "sideBar": true,
   "skip_h1_title": false,
   "title_cell": "Table of Contents",
   "title_sidebar": "Contents",
   "toc_cell": false,
   "toc_position": {},
   "toc_section_display": true,
   "toc_window_display": false
  },
  "varInspector": {
   "cols": {
    "lenName": 16,
    "lenType": 16,
    "lenVar": 40
   },
   "kernels_config": {
    "python": {
     "delete_cmd_postfix": "",
     "delete_cmd_prefix": "del ",
     "library": "var_list.py",
     "varRefreshCmd": "print(var_dic_list())"
    },
    "r": {
     "delete_cmd_postfix": ") ",
     "delete_cmd_prefix": "rm(",
     "library": "var_list.r",
     "varRefreshCmd": "cat(var_dic_list()) "
    }
   },
   "types_to_exclude": [
    "module",
    "function",
    "builtin_function_or_method",
    "instance",
    "_Feature"
   ],
   "window_display": false
  }
 },
 "nbformat": 4,
 "nbformat_minor": 2
}
